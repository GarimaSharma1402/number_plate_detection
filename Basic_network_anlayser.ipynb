{
 "cells": [
  {
   "cell_type": "code",
   "execution_count": 1,
   "metadata": {},
   "outputs": [
    {
     "name": "stdout",
     "output_type": "stream",
     "text": [
      "Packet: Ether / IPv6 / ICMPv6ND_NS / ICMPv6 Neighbor Discovery Option - Source Link-Layer Address f8:c4:f3:39:a1:18\n",
      "\n",
      "Packet: Ether / IPv6 / ICMPv6ND_NA / ICMPv6 Neighbor Discovery Option - Destination Link-Layer Address c8:f7:33:6a:49:a6\n",
      "\n",
      "Packet: Ether / IP / UDP 192.168.1.5:35458 > 46.99.146.232:1451 / Raw\n",
      "\n",
      "Packet: Ether / IP / UDP 192.168.1.5:35458 > 188.235.1.222:51413 / Raw\n",
      "\n",
      "Packet: Ether / IP / UDP 192.168.1.5:35458 > 178.76.138.5:1 / Raw\n",
      "\n"
     ]
    }
   ],
   "source": [
    "from scapy.all import*\n",
    "for pkt in sniff(iface='Wi-Fi', count =5):\n",
    "       print('Packet: ' + str(pkt.summary()) + '\\n');"
   ]
  },
  {
   "cell_type": "code",
   "execution_count": null,
   "metadata": {},
   "outputs": [],
   "source": []
  }
 ],
 "metadata": {
  "kernelspec": {
   "display_name": "Python 3",
   "language": "python",
   "name": "python3"
  },
  "language_info": {
   "codemirror_mode": {
    "name": "ipython",
    "version": 3
   },
   "file_extension": ".py",
   "mimetype": "text/x-python",
   "name": "python",
   "nbconvert_exporter": "python",
   "pygments_lexer": "ipython3",
   "version": "3.8.5"
  }
 },
 "nbformat": 4,
 "nbformat_minor": 4
}
